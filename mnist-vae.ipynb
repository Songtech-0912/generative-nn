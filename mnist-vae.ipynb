{
 "cells": [
  {
   "cell_type": "code",
   "execution_count": 1,
   "id": "39971f76",
   "metadata": {},
   "outputs": [],
   "source": [
    "import numpy as np\n",
    "import tensorflow as tf\n",
    "from tensorflow import keras\n",
    "from tensorflow.keras import layers\n",
    "import matplotlib.pyplot as plt"
   ]
  },
  {
   "cell_type": "code",
   "execution_count": 2,
   "id": "f9e96eed",
   "metadata": {},
   "outputs": [],
   "source": [
    "(train_images, _), (test_images, _) = tf.keras.datasets.mnist.load_data()"
   ]
  },
  {
   "cell_type": "code",
   "execution_count": 3,
   "id": "331a2692",
   "metadata": {},
   "outputs": [],
   "source": [
    "train_size = 60000\n",
    "batch_size = 128\n",
    "test_size = 10000"
   ]
  },
  {
   "cell_type": "code",
   "execution_count": 4,
   "id": "3bf7f55c",
   "metadata": {},
   "outputs": [
    {
     "data": {
      "text/plain": [
       "(60000, 28, 28)"
      ]
     },
     "execution_count": 4,
     "metadata": {},
     "output_type": "execute_result"
    }
   ],
   "source": [
    "train_images.shape"
   ]
  },
  {
   "cell_type": "code",
   "execution_count": 5,
   "id": "918c5d4f",
   "metadata": {},
   "outputs": [
    {
     "data": {
      "text/plain": [
       "(10000, 28, 28)"
      ]
     },
     "execution_count": 5,
     "metadata": {},
     "output_type": "execute_result"
    }
   ],
   "source": [
    "test_images.shape"
   ]
  },
  {
   "cell_type": "code",
   "execution_count": 6,
   "id": "f13afac5",
   "metadata": {},
   "outputs": [],
   "source": [
    "all_images = np.concatenate((train_images, test_images))"
   ]
  },
  {
   "cell_type": "code",
   "execution_count": 7,
   "id": "cba6317f",
   "metadata": {},
   "outputs": [
    {
     "data": {
      "text/plain": [
       "(70000, 28, 28)"
      ]
     },
     "execution_count": 7,
     "metadata": {},
     "output_type": "execute_result"
    }
   ],
   "source": [
    "all_images.shape"
   ]
  },
  {
   "cell_type": "code",
   "execution_count": 8,
   "id": "8a996216",
   "metadata": {},
   "outputs": [],
   "source": [
    "# normalize\n",
    "all_images = all_images / 255.0"
   ]
  },
  {
   "cell_type": "code",
   "execution_count": 9,
   "id": "50a1ad49",
   "metadata": {},
   "outputs": [],
   "source": [
    "all_images = np.expand_dims(all_images, -1).astype(\"float32\")"
   ]
  },
  {
   "cell_type": "code",
   "execution_count": 75,
   "id": "19357bf3",
   "metadata": {},
   "outputs": [
    {
     "data": {
      "text/plain": [
       "(70000, 28, 28, 1)"
      ]
     },
     "execution_count": 75,
     "metadata": {},
     "output_type": "execute_result"
    }
   ],
   "source": [
    "all_images.shape"
   ]
  },
  {
   "cell_type": "code",
   "execution_count": 10,
   "id": "de9275c0",
   "metadata": {},
   "outputs": [],
   "source": [
    "# Define input shape and latent dimension\n",
    "latent_dim = 2\n",
    "input_shape = (28, 28, 1)"
   ]
  },
  {
   "cell_type": "code",
   "execution_count": 11,
   "id": "ade5be29",
   "metadata": {},
   "outputs": [],
   "source": [
    "class Sampling(layers.Layer):\n",
    "    \"\"\"Uses (z_mean, z_log_var) to sample z, the vector encoding a digit.\"\"\"\n",
    "\n",
    "    def call(self, inputs):\n",
    "        z_mean, z_log_var = inputs\n",
    "        batch = tf.shape(z_mean)[0]\n",
    "        dim = tf.shape(z_mean)[1]\n",
    "        epsilon = tf.random.normal(shape=(batch, dim))\n",
    "        return z_mean + tf.exp(0.5 * z_log_var) * epsilon"
   ]
  },
  {
   "cell_type": "code",
   "execution_count": 12,
   "id": "13342d82",
   "metadata": {},
   "outputs": [
    {
     "name": "stdout",
     "output_type": "stream",
     "text": [
      "Model: \"encoder\"\n",
      "__________________________________________________________________________________________________\n",
      " Layer (type)                   Output Shape         Param #     Connected to                     \n",
      "==================================================================================================\n",
      " input_1 (InputLayer)           [(None, 28, 28, 1)]  0           []                               \n",
      "                                                                                                  \n",
      " conv2d (Conv2D)                (None, 14, 14, 32)   320         ['input_1[0][0]']                \n",
      "                                                                                                  \n",
      " conv2d_1 (Conv2D)              (None, 7, 7, 64)     18496       ['conv2d[0][0]']                 \n",
      "                                                                                                  \n",
      " flatten (Flatten)              (None, 3136)         0           ['conv2d_1[0][0]']               \n",
      "                                                                                                  \n",
      " dense (Dense)                  (None, 16)           50192       ['flatten[0][0]']                \n",
      "                                                                                                  \n",
      " z_mean (Dense)                 (None, 2)            34          ['dense[0][0]']                  \n",
      "                                                                                                  \n",
      " z_log_var (Dense)              (None, 2)            34          ['dense[0][0]']                  \n",
      "                                                                                                  \n",
      " sampling (Sampling)            (None, 2)            0           ['z_mean[0][0]',                 \n",
      "                                                                  'z_log_var[0][0]']              \n",
      "                                                                                                  \n",
      "==================================================================================================\n",
      "Total params: 69,076\n",
      "Trainable params: 69,076\n",
      "Non-trainable params: 0\n",
      "__________________________________________________________________________________________________\n"
     ]
    }
   ],
   "source": [
    "encoder_inputs = keras.Input(shape=input_shape)\n",
    "x = layers.Conv2D(32, 3, activation=\"relu\", strides=2, padding=\"same\")(encoder_inputs)\n",
    "x = layers.Conv2D(64, 3, activation=\"relu\", strides=2, padding=\"same\")(x)\n",
    "x = layers.Flatten()(x)\n",
    "x = layers.Dense(16, activation=\"relu\")(x)\n",
    "z_mean = layers.Dense(latent_dim, name=\"z_mean\")(x)\n",
    "z_log_var = layers.Dense(latent_dim, name=\"z_log_var\")(x)\n",
    "z = Sampling()([z_mean, z_log_var])\n",
    "encoder = keras.Model(encoder_inputs, [z_mean, z_log_var, z], name=\"encoder\")\n",
    "encoder.summary()"
   ]
  },
  {
   "cell_type": "code",
   "execution_count": 13,
   "id": "03e2cd22",
   "metadata": {},
   "outputs": [
    {
     "name": "stdout",
     "output_type": "stream",
     "text": [
      "Model: \"decoder\"\n",
      "_________________________________________________________________\n",
      " Layer (type)                Output Shape              Param #   \n",
      "=================================================================\n",
      " input_2 (InputLayer)        [(None, 2)]               0         \n",
      "                                                                 \n",
      " dense_1 (Dense)             (None, 3136)              9408      \n",
      "                                                                 \n",
      " reshape (Reshape)           (None, 7, 7, 64)          0         \n",
      "                                                                 \n",
      " conv2d_transpose (Conv2DTra  (None, 14, 14, 64)       36928     \n",
      " nspose)                                                         \n",
      "                                                                 \n",
      " conv2d_transpose_1 (Conv2DT  (None, 28, 28, 32)       18464     \n",
      " ranspose)                                                       \n",
      "                                                                 \n",
      " conv2d_transpose_2 (Conv2DT  (None, 28, 28, 1)        289       \n",
      " ranspose)                                                       \n",
      "                                                                 \n",
      "=================================================================\n",
      "Total params: 65,089\n",
      "Trainable params: 65,089\n",
      "Non-trainable params: 0\n",
      "_________________________________________________________________\n"
     ]
    }
   ],
   "source": [
    "latent_inputs = keras.Input(shape=(latent_dim,))\n",
    "x = layers.Dense(7 * 7 * 64, activation=\"relu\")(latent_inputs)\n",
    "x = layers.Reshape((7, 7, 64))(x)\n",
    "x = layers.Conv2DTranspose(64, 3, activation=\"relu\", strides=2, padding=\"same\")(x)\n",
    "x = layers.Conv2DTranspose(32, 3, activation=\"relu\", strides=2, padding=\"same\")(x)\n",
    "decoder_outputs = layers.Conv2DTranspose(1, 3, activation=\"sigmoid\", padding=\"same\")(x)\n",
    "decoder = keras.Model(latent_inputs, decoder_outputs, name=\"decoder\")\n",
    "decoder.summary()"
   ]
  },
  {
   "cell_type": "code",
   "execution_count": 14,
   "id": "98c80995",
   "metadata": {},
   "outputs": [],
   "source": [
    "class VAE(keras.Model):\n",
    "    def __init__(self, encoder, decoder, **kwargs):\n",
    "        super().__init__(**kwargs)\n",
    "        self.encoder = encoder\n",
    "        self.decoder = decoder\n",
    "        self.total_loss_tracker = keras.metrics.Mean(name=\"total_loss\")\n",
    "        self.reconstruction_loss_tracker = keras.metrics.Mean(\n",
    "            name=\"reconstruction_loss\"\n",
    "        )\n",
    "        self.kl_loss_tracker = keras.metrics.Mean(name=\"kl_loss\")\n",
    "\n",
    "    @property\n",
    "    def metrics(self):\n",
    "        return [\n",
    "            self.total_loss_tracker,\n",
    "            self.reconstruction_loss_tracker,\n",
    "            self.kl_loss_tracker,\n",
    "        ]\n",
    "\n",
    "    def train_step(self, data):\n",
    "        with tf.GradientTape() as tape:\n",
    "            z_mean, z_log_var, z = self.encoder(data)\n",
    "            reconstruction = self.decoder(z)\n",
    "            reconstruction_loss = tf.reduce_mean(\n",
    "                tf.reduce_sum(\n",
    "                    keras.losses.binary_crossentropy(data, reconstruction), axis=(1, 2)\n",
    "                )\n",
    "            )\n",
    "            kl_loss = -0.5 * (1 + z_log_var - tf.square(z_mean) - tf.exp(z_log_var))\n",
    "            kl_loss = tf.reduce_mean(tf.reduce_sum(kl_loss, axis=1))\n",
    "            total_loss = reconstruction_loss + kl_loss\n",
    "        grads = tape.gradient(total_loss, self.trainable_weights)\n",
    "        self.optimizer.apply_gradients(zip(grads, self.trainable_weights))\n",
    "        self.total_loss_tracker.update_state(total_loss)\n",
    "        self.reconstruction_loss_tracker.update_state(reconstruction_loss)\n",
    "        self.kl_loss_tracker.update_state(kl_loss)\n",
    "        return {\n",
    "            \"loss\": self.total_loss_tracker.result(),\n",
    "            \"reconstruction_loss\": self.reconstruction_loss_tracker.result(),\n",
    "            \"kl_loss\": self.kl_loss_tracker.result(),\n",
    "        }"
   ]
  },
  {
   "cell_type": "code",
   "execution_count": 15,
   "id": "ab79edde",
   "metadata": {},
   "outputs": [],
   "source": [
    "vae = VAE(encoder, decoder)"
   ]
  },
  {
   "cell_type": "code",
   "execution_count": 16,
   "id": "4a8b3f23",
   "metadata": {},
   "outputs": [],
   "source": [
    "vae.compile(optimizer=\"adam\")"
   ]
  },
  {
   "cell_type": "code",
   "execution_count": 17,
   "id": "0a387b0f",
   "metadata": {},
   "outputs": [
    {
     "name": "stdout",
     "output_type": "stream",
     "text": [
      "Epoch 1/500\n",
      "547/547 [==============================] - 35s 61ms/step - loss: 252.3632 - reconstruction_loss: 207.2607 - kl_loss: 3.4982\n",
      "Epoch 2/500\n",
      "547/547 [==============================] - 34s 62ms/step - loss: 189.9171 - reconstruction_loss: 184.8132 - kl_loss: 3.3478\n",
      "Epoch 3/500\n",
      "547/547 [==============================] - 34s 61ms/step - loss: 181.5460 - reconstruction_loss: 171.8436 - kl_loss: 4.7440\n",
      "Epoch 4/500\n",
      "547/547 [==============================] - 33s 61ms/step - loss: 167.0588 - reconstruction_loss: 159.7827 - kl_loss: 6.0424\n",
      "Epoch 5/500\n",
      "547/547 [==============================] - 33s 61ms/step - loss: 163.3559 - reconstruction_loss: 156.5741 - kl_loss: 6.2479\n",
      "Epoch 6/500\n",
      "547/547 [==============================] - 34s 61ms/step - loss: 161.2735 - reconstruction_loss: 154.5706 - kl_loss: 6.3320\n",
      "Epoch 7/500\n",
      "547/547 [==============================] - 34s 62ms/step - loss: 159.7084 - reconstruction_loss: 153.2637 - kl_loss: 6.3492\n",
      "Epoch 8/500\n",
      "547/547 [==============================] - 34s 62ms/step - loss: 158.4713 - reconstruction_loss: 152.2343 - kl_loss: 6.3876\n",
      "Epoch 9/500\n",
      "547/547 [==============================] - 34s 61ms/step - loss: 157.9619 - reconstruction_loss: 151.3011 - kl_loss: 6.3921\n",
      "Epoch 10/500\n",
      "547/547 [==============================] - 33s 61ms/step - loss: 157.1897 - reconstruction_loss: 150.7013 - kl_loss: 6.4148\n",
      "Epoch 11/500\n",
      "547/547 [==============================] - 34s 61ms/step - loss: 156.5332 - reconstruction_loss: 149.9826 - kl_loss: 6.4078\n",
      "Epoch 12/500\n",
      "547/547 [==============================] - 34s 62ms/step - loss: 156.1299 - reconstruction_loss: 149.5878 - kl_loss: 6.3988\n",
      "Epoch 13/500\n",
      "547/547 [==============================] - 34s 61ms/step - loss: 155.8328 - reconstruction_loss: 149.1220 - kl_loss: 6.4318\n",
      "Epoch 14/500\n",
      "547/547 [==============================] - 33s 61ms/step - loss: 155.3520 - reconstruction_loss: 148.7549 - kl_loss: 6.3775\n",
      "Epoch 15/500\n",
      "547/547 [==============================] - 33s 61ms/step - loss: 154.5170 - reconstruction_loss: 148.4228 - kl_loss: 6.3778\n",
      "Epoch 16/500\n",
      "547/547 [==============================] - 34s 61ms/step - loss: 154.7525 - reconstruction_loss: 148.1269 - kl_loss: 6.3898\n",
      "Epoch 17/500\n",
      "547/547 [==============================] - 34s 61ms/step - loss: 154.2835 - reconstruction_loss: 147.8063 - kl_loss: 6.3767\n",
      "Epoch 18/500\n",
      "547/547 [==============================] - 34s 62ms/step - loss: 153.8598 - reconstruction_loss: 147.6019 - kl_loss: 6.3865\n",
      "Epoch 19/500\n",
      "547/547 [==============================] - 33s 61ms/step - loss: 153.1923 - reconstruction_loss: 147.3143 - kl_loss: 6.3594\n",
      "Epoch 20/500\n",
      "547/547 [==============================] - 34s 62ms/step - loss: 153.5406 - reconstruction_loss: 147.1866 - kl_loss: 6.3379\n",
      "Epoch 21/500\n",
      "547/547 [==============================] - 34s 62ms/step - loss: 153.3644 - reconstruction_loss: 147.0099 - kl_loss: 6.3448\n",
      "Epoch 22/500\n",
      "547/547 [==============================] - 33s 61ms/step - loss: 153.2861 - reconstruction_loss: 146.7808 - kl_loss: 6.3382\n",
      "Epoch 23/500\n",
      "547/547 [==============================] - 34s 62ms/step - loss: 152.6324 - reconstruction_loss: 146.5160 - kl_loss: 6.3336\n",
      "Epoch 24/500\n",
      "547/547 [==============================] - 33s 61ms/step - loss: 153.1275 - reconstruction_loss: 146.4323 - kl_loss: 6.3313\n",
      "Epoch 25/500\n",
      "547/547 [==============================] - 34s 62ms/step - loss: 152.8498 - reconstruction_loss: 146.3177 - kl_loss: 6.3210\n",
      "Epoch 26/500\n",
      "547/547 [==============================] - 34s 63ms/step - loss: 152.5146 - reconstruction_loss: 146.1638 - kl_loss: 6.3260\n",
      "Epoch 27/500\n",
      "547/547 [==============================] - 34s 62ms/step - loss: 152.2162 - reconstruction_loss: 145.9333 - kl_loss: 6.3333\n",
      "Epoch 28/500\n",
      "547/547 [==============================] - 34s 61ms/step - loss: 151.6159 - reconstruction_loss: 145.7442 - kl_loss: 6.3448\n",
      "Epoch 29/500\n",
      "547/547 [==============================] - 33s 61ms/step - loss: 152.3300 - reconstruction_loss: 145.6845 - kl_loss: 6.3511\n",
      "Epoch 30/500\n",
      "547/547 [==============================] - 33s 61ms/step - loss: 151.7381 - reconstruction_loss: 145.5014 - kl_loss: 6.3412\n",
      "Epoch 31/500\n",
      "547/547 [==============================] - 34s 62ms/step - loss: 151.4677 - reconstruction_loss: 145.4023 - kl_loss: 6.3456\n",
      "Epoch 32/500\n",
      "547/547 [==============================] - 33s 61ms/step - loss: 151.6270 - reconstruction_loss: 145.2453 - kl_loss: 6.3616\n",
      "Epoch 33/500\n",
      "547/547 [==============================] - 33s 61ms/step - loss: 151.4501 - reconstruction_loss: 145.1487 - kl_loss: 6.3687\n",
      "Epoch 34/500\n",
      "547/547 [==============================] - 33s 61ms/step - loss: 151.4317 - reconstruction_loss: 145.0508 - kl_loss: 6.3647\n",
      "Epoch 35/500\n",
      "547/547 [==============================] - 33s 61ms/step - loss: 151.1334 - reconstruction_loss: 144.9207 - kl_loss: 6.3753\n",
      "Epoch 36/500\n",
      "547/547 [==============================] - 34s 61ms/step - loss: 151.1976 - reconstruction_loss: 144.9036 - kl_loss: 6.3849\n",
      "Epoch 37/500\n",
      "547/547 [==============================] - 35s 63ms/step - loss: 150.9055 - reconstruction_loss: 144.8072 - kl_loss: 6.3836\n",
      "Epoch 38/500\n",
      "547/547 [==============================] - 33s 61ms/step - loss: 151.0963 - reconstruction_loss: 144.6785 - kl_loss: 6.3884\n",
      "Epoch 39/500\n",
      "547/547 [==============================] - 35s 63ms/step - loss: 150.9988 - reconstruction_loss: 144.4893 - kl_loss: 6.3968\n",
      "Epoch 40/500\n",
      "547/547 [==============================] - 34s 62ms/step - loss: 150.7915 - reconstruction_loss: 144.4574 - kl_loss: 6.3899\n",
      "Epoch 41/500\n",
      "547/547 [==============================] - 34s 62ms/step - loss: 151.0649 - reconstruction_loss: 144.3572 - kl_loss: 6.3970\n",
      "Epoch 42/500\n",
      "547/547 [==============================] - 34s 62ms/step - loss: 150.3921 - reconstruction_loss: 144.2948 - kl_loss: 6.3830\n",
      "Epoch 43/500\n",
      "547/547 [==============================] - 34s 63ms/step - loss: 150.7913 - reconstruction_loss: 144.0625 - kl_loss: 6.4039\n",
      "Epoch 44/500\n",
      "547/547 [==============================] - 34s 62ms/step - loss: 150.3037 - reconstruction_loss: 144.1562 - kl_loss: 6.4131\n",
      "Epoch 45/500\n",
      "547/547 [==============================] - 34s 63ms/step - loss: 150.1046 - reconstruction_loss: 144.0856 - kl_loss: 6.4173\n",
      "Epoch 46/500\n",
      "547/547 [==============================] - 35s 63ms/step - loss: 150.6278 - reconstruction_loss: 143.9483 - kl_loss: 6.4411\n",
      "Epoch 47/500\n",
      "547/547 [==============================] - 35s 64ms/step - loss: 149.8706 - reconstruction_loss: 143.8886 - kl_loss: 6.4191\n",
      "Epoch 48/500\n",
      "547/547 [==============================] - 36s 65ms/step - loss: 149.8795 - reconstruction_loss: 143.7831 - kl_loss: 6.4291\n",
      "Epoch 49/500\n",
      "547/547 [==============================] - 35s 64ms/step - loss: 149.8597 - reconstruction_loss: 143.6965 - kl_loss: 6.4327\n",
      "Epoch 50/500\n",
      "547/547 [==============================] - 34s 62ms/step - loss: 150.0494 - reconstruction_loss: 143.6236 - kl_loss: 6.4342\n",
      "Epoch 51/500\n",
      "547/547 [==============================] - 35s 63ms/step - loss: 149.9656 - reconstruction_loss: 143.5782 - kl_loss: 6.4418\n",
      "Epoch 52/500\n",
      "547/547 [==============================] - 35s 64ms/step - loss: 149.8996 - reconstruction_loss: 143.4943 - kl_loss: 6.4490\n",
      "Epoch 53/500\n",
      "547/547 [==============================] - 34s 63ms/step - loss: 150.1261 - reconstruction_loss: 143.4909 - kl_loss: 6.4486\n",
      "Epoch 54/500\n",
      "547/547 [==============================] - 35s 63ms/step - loss: 149.8372 - reconstruction_loss: 143.3863 - kl_loss: 6.4415\n",
      "Epoch 55/500\n",
      "547/547 [==============================] - 34s 62ms/step - loss: 149.6004 - reconstruction_loss: 143.2278 - kl_loss: 6.4554\n",
      "Epoch 56/500\n",
      "547/547 [==============================] - 35s 63ms/step - loss: 149.5875 - reconstruction_loss: 143.3262 - kl_loss: 6.4606\n",
      "Epoch 57/500\n",
      "547/547 [==============================] - 35s 63ms/step - loss: 149.8589 - reconstruction_loss: 143.2461 - kl_loss: 6.4523\n",
      "Epoch 58/500\n",
      "547/547 [==============================] - 35s 64ms/step - loss: 149.6156 - reconstruction_loss: 143.1572 - kl_loss: 6.4624\n",
      "Epoch 59/500\n",
      "547/547 [==============================] - 34s 62ms/step - loss: 149.5363 - reconstruction_loss: 143.0995 - kl_loss: 6.4739\n",
      "Epoch 60/500\n",
      "547/547 [==============================] - 34s 62ms/step - loss: 149.0023 - reconstruction_loss: 143.1115 - kl_loss: 6.4697\n",
      "Epoch 61/500\n",
      "547/547 [==============================] - 34s 62ms/step - loss: 149.6360 - reconstruction_loss: 142.9667 - kl_loss: 6.4589\n",
      "Epoch 62/500\n",
      "547/547 [==============================] - 35s 65ms/step - loss: 149.3998 - reconstruction_loss: 142.8767 - kl_loss: 6.4677\n",
      "Epoch 63/500\n",
      "547/547 [==============================] - 35s 64ms/step - loss: 149.0446 - reconstruction_loss: 142.9188 - kl_loss: 6.4719\n",
      "Epoch 64/500\n",
      "547/547 [==============================] - 35s 63ms/step - loss: 149.3882 - reconstruction_loss: 142.8155 - kl_loss: 6.4831\n",
      "Epoch 65/500\n",
      "547/547 [==============================] - 34s 61ms/step - loss: 149.4311 - reconstruction_loss: 142.9383 - kl_loss: 6.4598\n",
      "Epoch 66/500\n",
      "547/547 [==============================] - 34s 62ms/step - loss: 149.0660 - reconstruction_loss: 142.8276 - kl_loss: 6.4685\n",
      "Epoch 67/500\n",
      "547/547 [==============================] - 34s 63ms/step - loss: 149.0474 - reconstruction_loss: 142.7083 - kl_loss: 6.4774\n",
      "Epoch 68/500\n",
      "547/547 [==============================] - 34s 63ms/step - loss: 149.1181 - reconstruction_loss: 142.6493 - kl_loss: 6.4915\n",
      "Epoch 69/500\n",
      "547/547 [==============================] - 34s 62ms/step - loss: 149.0897 - reconstruction_loss: 142.6183 - kl_loss: 6.4778\n",
      "Epoch 70/500\n",
      "547/547 [==============================] - 34s 63ms/step - loss: 148.6678 - reconstruction_loss: 142.6073 - kl_loss: 6.4919\n",
      "Epoch 71/500\n",
      "547/547 [==============================] - 34s 62ms/step - loss: 149.0750 - reconstruction_loss: 142.5784 - kl_loss: 6.4822\n",
      "Epoch 72/500\n",
      "547/547 [==============================] - 34s 62ms/step - loss: 148.8901 - reconstruction_loss: 142.5016 - kl_loss: 6.5000\n",
      "Epoch 73/500\n",
      "547/547 [==============================] - 34s 63ms/step - loss: 148.8110 - reconstruction_loss: 142.5253 - kl_loss: 6.4862\n",
      "Epoch 74/500\n",
      "547/547 [==============================] - 35s 64ms/step - loss: 148.8246 - reconstruction_loss: 142.4956 - kl_loss: 6.4849\n",
      "Epoch 75/500\n",
      "547/547 [==============================] - 34s 62ms/step - loss: 148.8395 - reconstruction_loss: 142.4312 - kl_loss: 6.5044\n",
      "Epoch 76/500\n",
      "547/547 [==============================] - 34s 63ms/step - loss: 148.9348 - reconstruction_loss: 142.3436 - kl_loss: 6.4887\n",
      "Epoch 77/500\n",
      "547/547 [==============================] - 34s 63ms/step - loss: 148.3885 - reconstruction_loss: 142.3895 - kl_loss: 6.4995\n",
      "Epoch 78/500\n",
      "547/547 [==============================] - 34s 63ms/step - loss: 148.6830 - reconstruction_loss: 142.3121 - kl_loss: 6.4876\n",
      "Epoch 79/500\n",
      "547/547 [==============================] - 34s 63ms/step - loss: 148.8853 - reconstruction_loss: 142.2528 - kl_loss: 6.5171\n",
      "Epoch 80/500\n",
      "547/547 [==============================] - 35s 63ms/step - loss: 148.9294 - reconstruction_loss: 142.2805 - kl_loss: 6.5006\n",
      "Epoch 81/500\n",
      "547/547 [==============================] - 34s 62ms/step - loss: 148.6367 - reconstruction_loss: 142.1731 - kl_loss: 6.5219\n",
      "Epoch 82/500\n",
      "547/547 [==============================] - 34s 62ms/step - loss: 148.6727 - reconstruction_loss: 142.1442 - kl_loss: 6.5068\n",
      "Epoch 83/500\n",
      "547/547 [==============================] - 34s 61ms/step - loss: 147.9990 - reconstruction_loss: 142.0252 - kl_loss: 6.5190\n",
      "Epoch 84/500\n",
      "547/547 [==============================] - 34s 61ms/step - loss: 148.1667 - reconstruction_loss: 142.1131 - kl_loss: 6.5177\n",
      "Epoch 85/500\n",
      "547/547 [==============================] - 34s 62ms/step - loss: 148.4626 - reconstruction_loss: 142.1027 - kl_loss: 6.5127\n",
      "Epoch 86/500\n",
      "547/547 [==============================] - 34s 61ms/step - loss: 148.7469 - reconstruction_loss: 142.0117 - kl_loss: 6.5006\n",
      "Epoch 87/500\n",
      "547/547 [==============================] - 35s 63ms/step - loss: 148.5992 - reconstruction_loss: 142.0003 - kl_loss: 6.5043\n",
      "Epoch 88/500\n",
      "547/547 [==============================] - 36s 66ms/step - loss: 148.1630 - reconstruction_loss: 141.9565 - kl_loss: 6.5001\n",
      "Epoch 89/500\n",
      "547/547 [==============================] - 35s 64ms/step - loss: 148.7055 - reconstruction_loss: 141.9579 - kl_loss: 6.5094\n",
      "Epoch 90/500\n",
      "547/547 [==============================] - 34s 62ms/step - loss: 148.2995 - reconstruction_loss: 141.8837 - kl_loss: 6.5192\n",
      "Epoch 91/500\n",
      "547/547 [==============================] - 34s 61ms/step - loss: 148.1961 - reconstruction_loss: 141.8279 - kl_loss: 6.5154\n",
      "Epoch 92/500\n",
      "547/547 [==============================] - 34s 63ms/step - loss: 148.4861 - reconstruction_loss: 141.8273 - kl_loss: 6.5200\n",
      "Epoch 93/500\n",
      "547/547 [==============================] - 35s 63ms/step - loss: 147.9868 - reconstruction_loss: 141.7855 - kl_loss: 6.5158\n",
      "Epoch 94/500\n",
      "547/547 [==============================] - 34s 62ms/step - loss: 148.0643 - reconstruction_loss: 141.7795 - kl_loss: 6.5159\n",
      "Epoch 95/500\n",
      "547/547 [==============================] - 34s 63ms/step - loss: 148.5799 - reconstruction_loss: 141.7984 - kl_loss: 6.5347\n",
      "Epoch 96/500\n",
      "547/547 [==============================] - 34s 63ms/step - loss: 148.1939 - reconstruction_loss: 141.7053 - kl_loss: 6.5391\n",
      "Epoch 97/500\n",
      "547/547 [==============================] - 34s 62ms/step - loss: 148.2807 - reconstruction_loss: 141.7056 - kl_loss: 6.5199\n",
      "Epoch 98/500\n",
      "547/547 [==============================] - 34s 62ms/step - loss: 147.8481 - reconstruction_loss: 141.7540 - kl_loss: 6.5199\n",
      "Epoch 99/500\n",
      "547/547 [==============================] - 34s 63ms/step - loss: 148.2527 - reconstruction_loss: 141.6706 - kl_loss: 6.5247\n",
      "Epoch 100/500\n",
      "547/547 [==============================] - 35s 63ms/step - loss: 148.0010 - reconstruction_loss: 141.6699 - kl_loss: 6.5360\n",
      "Epoch 101/500\n",
      "547/547 [==============================] - 34s 63ms/step - loss: 148.1381 - reconstruction_loss: 141.6687 - kl_loss: 6.5323\n",
      "Epoch 102/500\n",
      "547/547 [==============================] - 34s 63ms/step - loss: 147.8787 - reconstruction_loss: 141.5404 - kl_loss: 6.5417\n",
      "Epoch 103/500\n",
      "547/547 [==============================] - 34s 62ms/step - loss: 147.8550 - reconstruction_loss: 141.5871 - kl_loss: 6.5233\n",
      "Epoch 104/500\n",
      "547/547 [==============================] - 34s 62ms/step - loss: 147.9371 - reconstruction_loss: 141.4995 - kl_loss: 6.5446\n",
      "Epoch 105/500\n",
      "547/547 [==============================] - 34s 62ms/step - loss: 148.0896 - reconstruction_loss: 141.5582 - kl_loss: 6.5441\n",
      "Epoch 106/500\n",
      "547/547 [==============================] - 35s 64ms/step - loss: 147.9100 - reconstruction_loss: 141.4427 - kl_loss: 6.5357\n",
      "Epoch 107/500\n",
      "547/547 [==============================] - 35s 64ms/step - loss: 147.8598 - reconstruction_loss: 141.4565 - kl_loss: 6.5294\n",
      "Epoch 108/500\n",
      "547/547 [==============================] - 35s 64ms/step - loss: 147.9612 - reconstruction_loss: 141.4479 - kl_loss: 6.5438\n",
      "Epoch 109/500\n",
      "547/547 [==============================] - 34s 63ms/step - loss: 148.0783 - reconstruction_loss: 141.3974 - kl_loss: 6.5291\n",
      "Epoch 110/500\n",
      "547/547 [==============================] - 35s 64ms/step - loss: 148.3209 - reconstruction_loss: 141.4202 - kl_loss: 6.5280\n",
      "Epoch 111/500\n",
      "547/547 [==============================] - 35s 64ms/step - loss: 147.7057 - reconstruction_loss: 141.3917 - kl_loss: 6.5358\n",
      "Epoch 112/500\n",
      "547/547 [==============================] - 35s 64ms/step - loss: 147.6890 - reconstruction_loss: 141.3539 - kl_loss: 6.5447\n",
      "Epoch 113/500\n",
      "547/547 [==============================] - 35s 64ms/step - loss: 147.7582 - reconstruction_loss: 141.3842 - kl_loss: 6.5393\n",
      "Epoch 114/500\n",
      "547/547 [==============================] - 35s 64ms/step - loss: 147.7147 - reconstruction_loss: 141.2755 - kl_loss: 6.5521\n",
      "Epoch 115/500\n",
      "547/547 [==============================] - 35s 64ms/step - loss: 147.1983 - reconstruction_loss: 141.1757 - kl_loss: 6.5417\n",
      "Epoch 116/500\n",
      "547/547 [==============================] - 35s 64ms/step - loss: 147.9056 - reconstruction_loss: 141.2789 - kl_loss: 6.5574\n",
      "Epoch 117/500\n",
      "547/547 [==============================] - 35s 64ms/step - loss: 147.3110 - reconstruction_loss: 141.1704 - kl_loss: 6.5458\n",
      "Epoch 118/500\n",
      "547/547 [==============================] - 35s 64ms/step - loss: 147.8098 - reconstruction_loss: 141.2222 - kl_loss: 6.5539\n",
      "Epoch 119/500\n"
     ]
    },
    {
     "name": "stdout",
     "output_type": "stream",
     "text": [
      "547/547 [==============================] - 35s 64ms/step - loss: 147.6166 - reconstruction_loss: 141.2287 - kl_loss: 6.5625\n",
      "Epoch 120/500\n",
      "547/547 [==============================] - 34s 62ms/step - loss: 147.5276 - reconstruction_loss: 141.1695 - kl_loss: 6.5544\n",
      "Epoch 121/500\n",
      "547/547 [==============================] - 34s 62ms/step - loss: 147.2451 - reconstruction_loss: 141.1345 - kl_loss: 6.5467\n",
      "Epoch 122/500\n",
      "547/547 [==============================] - 34s 63ms/step - loss: 147.6354 - reconstruction_loss: 141.1175 - kl_loss: 6.5597\n",
      "Epoch 123/500\n",
      "547/547 [==============================] - 37s 67ms/step - loss: 147.1632 - reconstruction_loss: 141.1368 - kl_loss: 6.5603\n",
      "Epoch 124/500\n",
      "547/547 [==============================] - 36s 65ms/step - loss: 147.7343 - reconstruction_loss: 141.1447 - kl_loss: 6.5676\n",
      "Epoch 125/500\n",
      "547/547 [==============================] - 35s 64ms/step - loss: 147.7294 - reconstruction_loss: 141.0587 - kl_loss: 6.5603\n",
      "Epoch 126/500\n",
      "547/547 [==============================] - 36s 65ms/step - loss: 147.3101 - reconstruction_loss: 141.0499 - kl_loss: 6.5718\n",
      "Epoch 127/500\n",
      "547/547 [==============================] - 36s 65ms/step - loss: 147.5746 - reconstruction_loss: 141.1182 - kl_loss: 6.5455\n",
      "Epoch 128/500\n",
      "547/547 [==============================] - 35s 63ms/step - loss: 147.3912 - reconstruction_loss: 140.9825 - kl_loss: 6.5516\n",
      "Epoch 129/500\n",
      "547/547 [==============================] - 35s 64ms/step - loss: 147.3353 - reconstruction_loss: 141.0205 - kl_loss: 6.5695\n",
      "Epoch 130/500\n",
      "547/547 [==============================] - 36s 65ms/step - loss: 147.5973 - reconstruction_loss: 140.9129 - kl_loss: 6.5697\n",
      "Epoch 131/500\n",
      "547/547 [==============================] - 35s 65ms/step - loss: 147.7061 - reconstruction_loss: 140.9568 - kl_loss: 6.5653\n",
      "Epoch 132/500\n",
      "547/547 [==============================] - 36s 65ms/step - loss: 147.2310 - reconstruction_loss: 140.9486 - kl_loss: 6.5444\n",
      "Epoch 133/500\n",
      "547/547 [==============================] - 34s 63ms/step - loss: 147.2503 - reconstruction_loss: 140.9313 - kl_loss: 6.5676\n",
      "Epoch 134/500\n",
      "547/547 [==============================] - 34s 62ms/step - loss: 147.3331 - reconstruction_loss: 140.9545 - kl_loss: 6.5715\n",
      "Epoch 135/500\n",
      "547/547 [==============================] - 34s 62ms/step - loss: 147.3523 - reconstruction_loss: 140.8599 - kl_loss: 6.5501\n",
      "Epoch 136/500\n",
      "547/547 [==============================] - 34s 62ms/step - loss: 147.4744 - reconstruction_loss: 140.9257 - kl_loss: 6.5730\n",
      "Epoch 137/500\n",
      "547/547 [==============================] - 35s 63ms/step - loss: 147.0780 - reconstruction_loss: 140.8532 - kl_loss: 6.5731\n",
      "Epoch 138/500\n",
      "547/547 [==============================] - 34s 62ms/step - loss: 147.3456 - reconstruction_loss: 140.8398 - kl_loss: 6.5670\n",
      "Epoch 139/500\n",
      "547/547 [==============================] - 35s 63ms/step - loss: 147.3267 - reconstruction_loss: 140.8227 - kl_loss: 6.5581\n",
      "Epoch 140/500\n",
      "547/547 [==============================] - 34s 62ms/step - loss: 147.2901 - reconstruction_loss: 140.7835 - kl_loss: 6.5777\n",
      "Epoch 141/500\n",
      "547/547 [==============================] - 35s 63ms/step - loss: 147.2238 - reconstruction_loss: 140.7765 - kl_loss: 6.5714\n",
      "Epoch 142/500\n",
      "547/547 [==============================] - 35s 63ms/step - loss: 147.4987 - reconstruction_loss: 140.8313 - kl_loss: 6.5764\n",
      "Epoch 143/500\n",
      "547/547 [==============================] - 34s 62ms/step - loss: 147.0767 - reconstruction_loss: 140.7877 - kl_loss: 6.5852\n",
      "Epoch 144/500\n",
      "547/547 [==============================] - 34s 62ms/step - loss: 146.9766 - reconstruction_loss: 140.6901 - kl_loss: 6.5897\n",
      "Epoch 145/500\n",
      "547/547 [==============================] - 35s 64ms/step - loss: 147.3432 - reconstruction_loss: 140.7376 - kl_loss: 6.5792\n",
      "Epoch 146/500\n",
      "547/547 [==============================] - 35s 65ms/step - loss: 147.5373 - reconstruction_loss: 140.6742 - kl_loss: 6.5759\n",
      "Epoch 147/500\n",
      "547/547 [==============================] - 34s 62ms/step - loss: 146.8716 - reconstruction_loss: 140.7410 - kl_loss: 6.5791\n",
      "Epoch 148/500\n",
      "547/547 [==============================] - 34s 62ms/step - loss: 146.6685 - reconstruction_loss: 140.6705 - kl_loss: 6.5735\n",
      "Epoch 149/500\n",
      "547/547 [==============================] - 34s 62ms/step - loss: 147.2557 - reconstruction_loss: 140.6153 - kl_loss: 6.5697\n",
      "Epoch 150/500\n",
      "547/547 [==============================] - 35s 63ms/step - loss: 146.8531 - reconstruction_loss: 140.6410 - kl_loss: 6.5828\n",
      "Epoch 151/500\n",
      "547/547 [==============================] - 36s 65ms/step - loss: 147.2219 - reconstruction_loss: 140.6776 - kl_loss: 6.5895\n",
      "Epoch 152/500\n",
      "547/547 [==============================] - 35s 64ms/step - loss: 147.7170 - reconstruction_loss: 140.6352 - kl_loss: 6.5744\n",
      "Epoch 153/500\n",
      "547/547 [==============================] - 35s 64ms/step - loss: 147.0666 - reconstruction_loss: 140.6131 - kl_loss: 6.5859\n",
      "Epoch 154/500\n",
      "547/547 [==============================] - 36s 65ms/step - loss: 146.8546 - reconstruction_loss: 140.5772 - kl_loss: 6.5646\n",
      "Epoch 155/500\n",
      "547/547 [==============================] - 35s 65ms/step - loss: 147.6944 - reconstruction_loss: 140.5567 - kl_loss: 6.5833\n",
      "Epoch 156/500\n",
      "547/547 [==============================] - 35s 64ms/step - loss: 146.8698 - reconstruction_loss: 140.4686 - kl_loss: 6.5775\n",
      "Epoch 157/500\n",
      "547/547 [==============================] - 34s 63ms/step - loss: 147.0838 - reconstruction_loss: 140.6311 - kl_loss: 6.5838\n",
      "Epoch 158/500\n",
      "547/547 [==============================] - 34s 63ms/step - loss: 146.8419 - reconstruction_loss: 140.6503 - kl_loss: 6.5665\n",
      "Epoch 159/500\n",
      "547/547 [==============================] - 35s 64ms/step - loss: 146.7323 - reconstruction_loss: 140.5135 - kl_loss: 6.5982\n",
      "Epoch 160/500\n",
      "547/547 [==============================] - 36s 65ms/step - loss: 146.8204 - reconstruction_loss: 140.4790 - kl_loss: 6.5805\n",
      "Epoch 161/500\n",
      "547/547 [==============================] - 35s 64ms/step - loss: 146.7657 - reconstruction_loss: 140.5392 - kl_loss: 6.5919\n",
      "Epoch 162/500\n",
      "547/547 [==============================] - 34s 62ms/step - loss: 146.7253 - reconstruction_loss: 140.4672 - kl_loss: 6.5946\n",
      "Epoch 163/500\n",
      "547/547 [==============================] - 35s 64ms/step - loss: 146.9301 - reconstruction_loss: 140.4550 - kl_loss: 6.5911\n",
      "Epoch 164/500\n",
      "547/547 [==============================] - 38s 70ms/step - loss: 146.7634 - reconstruction_loss: 140.4032 - kl_loss: 6.5864\n",
      "Epoch 165/500\n",
      "547/547 [==============================] - 36s 66ms/step - loss: 147.0401 - reconstruction_loss: 140.4685 - kl_loss: 6.5926\n",
      "Epoch 166/500\n",
      "547/547 [==============================] - 36s 65ms/step - loss: 146.7349 - reconstruction_loss: 140.3552 - kl_loss: 6.5847\n",
      "Epoch 167/500\n",
      "547/547 [==============================] - 34s 63ms/step - loss: 146.5255 - reconstruction_loss: 140.3741 - kl_loss: 6.5879\n",
      "Epoch 168/500\n",
      "547/547 [==============================] - 34s 63ms/step - loss: 146.8366 - reconstruction_loss: 140.3566 - kl_loss: 6.5930\n",
      "Epoch 169/500\n",
      "547/547 [==============================] - 35s 63ms/step - loss: 146.8861 - reconstruction_loss: 140.4222 - kl_loss: 6.5875\n",
      "Epoch 170/500\n",
      "547/547 [==============================] - 34s 62ms/step - loss: 147.0259 - reconstruction_loss: 140.3735 - kl_loss: 6.5975\n",
      "Epoch 171/500\n",
      "547/547 [==============================] - 34s 63ms/step - loss: 147.0695 - reconstruction_loss: 140.3673 - kl_loss: 6.5854\n",
      "Epoch 172/500\n",
      "547/547 [==============================] - 35s 64ms/step - loss: 146.8393 - reconstruction_loss: 140.3240 - kl_loss: 6.5803\n",
      "Epoch 173/500\n",
      "547/547 [==============================] - 35s 64ms/step - loss: 146.9281 - reconstruction_loss: 140.3974 - kl_loss: 6.5944\n",
      "Epoch 174/500\n",
      "129/547 [======>.......................] - ETA: 26s - loss: 146.4418 - reconstruction_loss: 140.2258 - kl_loss: 6.6363"
     ]
    },
    {
     "ename": "KeyboardInterrupt",
     "evalue": "",
     "output_type": "error",
     "traceback": [
      "\u001b[1;31m---------------------------------------------------------------------------\u001b[0m",
      "\u001b[1;31mKeyboardInterrupt\u001b[0m                         Traceback (most recent call last)",
      "Cell \u001b[1;32mIn[17], line 1\u001b[0m\n\u001b[1;32m----> 1\u001b[0m \u001b[43mvae\u001b[49m\u001b[38;5;241;43m.\u001b[39;49m\u001b[43mfit\u001b[49m\u001b[43m(\u001b[49m\u001b[43mall_images\u001b[49m\u001b[43m,\u001b[49m\u001b[43m \u001b[49m\u001b[43mepochs\u001b[49m\u001b[38;5;241;43m=\u001b[39;49m\u001b[38;5;241;43m500\u001b[39;49m\u001b[43m,\u001b[49m\u001b[43m \u001b[49m\u001b[43mbatch_size\u001b[49m\u001b[38;5;241;43m=\u001b[39;49m\u001b[43mbatch_size\u001b[49m\u001b[43m)\u001b[49m\n",
      "File \u001b[1;32m~\\AppData\\Local\\Packages\\PythonSoftwareFoundation.Python.3.11_qbz5n2kfra8p0\\LocalCache\\local-packages\\Python311\\site-packages\\keras\\utils\\traceback_utils.py:65\u001b[0m, in \u001b[0;36mfilter_traceback.<locals>.error_handler\u001b[1;34m(*args, **kwargs)\u001b[0m\n\u001b[0;32m     63\u001b[0m filtered_tb \u001b[38;5;241m=\u001b[39m \u001b[38;5;28;01mNone\u001b[39;00m\n\u001b[0;32m     64\u001b[0m \u001b[38;5;28;01mtry\u001b[39;00m:\n\u001b[1;32m---> 65\u001b[0m     \u001b[38;5;28;01mreturn\u001b[39;00m \u001b[43mfn\u001b[49m\u001b[43m(\u001b[49m\u001b[38;5;241;43m*\u001b[39;49m\u001b[43margs\u001b[49m\u001b[43m,\u001b[49m\u001b[43m \u001b[49m\u001b[38;5;241;43m*\u001b[39;49m\u001b[38;5;241;43m*\u001b[39;49m\u001b[43mkwargs\u001b[49m\u001b[43m)\u001b[49m\n\u001b[0;32m     66\u001b[0m \u001b[38;5;28;01mexcept\u001b[39;00m \u001b[38;5;167;01mException\u001b[39;00m \u001b[38;5;28;01mas\u001b[39;00m e:\n\u001b[0;32m     67\u001b[0m     filtered_tb \u001b[38;5;241m=\u001b[39m _process_traceback_frames(e\u001b[38;5;241m.\u001b[39m__traceback__)\n",
      "File \u001b[1;32m~\\AppData\\Local\\Packages\\PythonSoftwareFoundation.Python.3.11_qbz5n2kfra8p0\\LocalCache\\local-packages\\Python311\\site-packages\\keras\\engine\\training.py:1685\u001b[0m, in \u001b[0;36mModel.fit\u001b[1;34m(self, x, y, batch_size, epochs, verbose, callbacks, validation_split, validation_data, shuffle, class_weight, sample_weight, initial_epoch, steps_per_epoch, validation_steps, validation_batch_size, validation_freq, max_queue_size, workers, use_multiprocessing)\u001b[0m\n\u001b[0;32m   1677\u001b[0m \u001b[38;5;28;01mwith\u001b[39;00m tf\u001b[38;5;241m.\u001b[39mprofiler\u001b[38;5;241m.\u001b[39mexperimental\u001b[38;5;241m.\u001b[39mTrace(\n\u001b[0;32m   1678\u001b[0m     \u001b[38;5;124m\"\u001b[39m\u001b[38;5;124mtrain\u001b[39m\u001b[38;5;124m\"\u001b[39m,\n\u001b[0;32m   1679\u001b[0m     epoch_num\u001b[38;5;241m=\u001b[39mepoch,\n\u001b[1;32m   (...)\u001b[0m\n\u001b[0;32m   1682\u001b[0m     _r\u001b[38;5;241m=\u001b[39m\u001b[38;5;241m1\u001b[39m,\n\u001b[0;32m   1683\u001b[0m ):\n\u001b[0;32m   1684\u001b[0m     callbacks\u001b[38;5;241m.\u001b[39mon_train_batch_begin(step)\n\u001b[1;32m-> 1685\u001b[0m     tmp_logs \u001b[38;5;241m=\u001b[39m \u001b[38;5;28;43mself\u001b[39;49m\u001b[38;5;241;43m.\u001b[39;49m\u001b[43mtrain_function\u001b[49m\u001b[43m(\u001b[49m\u001b[43miterator\u001b[49m\u001b[43m)\u001b[49m\n\u001b[0;32m   1686\u001b[0m     \u001b[38;5;28;01mif\u001b[39;00m data_handler\u001b[38;5;241m.\u001b[39mshould_sync:\n\u001b[0;32m   1687\u001b[0m         context\u001b[38;5;241m.\u001b[39masync_wait()\n",
      "File \u001b[1;32m~\\AppData\\Local\\Packages\\PythonSoftwareFoundation.Python.3.11_qbz5n2kfra8p0\\LocalCache\\local-packages\\Python311\\site-packages\\tensorflow\\python\\util\\traceback_utils.py:150\u001b[0m, in \u001b[0;36mfilter_traceback.<locals>.error_handler\u001b[1;34m(*args, **kwargs)\u001b[0m\n\u001b[0;32m    148\u001b[0m filtered_tb \u001b[38;5;241m=\u001b[39m \u001b[38;5;28;01mNone\u001b[39;00m\n\u001b[0;32m    149\u001b[0m \u001b[38;5;28;01mtry\u001b[39;00m:\n\u001b[1;32m--> 150\u001b[0m   \u001b[38;5;28;01mreturn\u001b[39;00m \u001b[43mfn\u001b[49m\u001b[43m(\u001b[49m\u001b[38;5;241;43m*\u001b[39;49m\u001b[43margs\u001b[49m\u001b[43m,\u001b[49m\u001b[43m \u001b[49m\u001b[38;5;241;43m*\u001b[39;49m\u001b[38;5;241;43m*\u001b[39;49m\u001b[43mkwargs\u001b[49m\u001b[43m)\u001b[49m\n\u001b[0;32m    151\u001b[0m \u001b[38;5;28;01mexcept\u001b[39;00m \u001b[38;5;167;01mException\u001b[39;00m \u001b[38;5;28;01mas\u001b[39;00m e:\n\u001b[0;32m    152\u001b[0m   filtered_tb \u001b[38;5;241m=\u001b[39m _process_traceback_frames(e\u001b[38;5;241m.\u001b[39m__traceback__)\n",
      "File \u001b[1;32m~\\AppData\\Local\\Packages\\PythonSoftwareFoundation.Python.3.11_qbz5n2kfra8p0\\LocalCache\\local-packages\\Python311\\site-packages\\tensorflow\\python\\eager\\polymorphic_function\\polymorphic_function.py:894\u001b[0m, in \u001b[0;36mFunction.__call__\u001b[1;34m(self, *args, **kwds)\u001b[0m\n\u001b[0;32m    891\u001b[0m compiler \u001b[38;5;241m=\u001b[39m \u001b[38;5;124m\"\u001b[39m\u001b[38;5;124mxla\u001b[39m\u001b[38;5;124m\"\u001b[39m \u001b[38;5;28;01mif\u001b[39;00m \u001b[38;5;28mself\u001b[39m\u001b[38;5;241m.\u001b[39m_jit_compile \u001b[38;5;28;01melse\u001b[39;00m \u001b[38;5;124m\"\u001b[39m\u001b[38;5;124mnonXla\u001b[39m\u001b[38;5;124m\"\u001b[39m\n\u001b[0;32m    893\u001b[0m \u001b[38;5;28;01mwith\u001b[39;00m OptionalXlaContext(\u001b[38;5;28mself\u001b[39m\u001b[38;5;241m.\u001b[39m_jit_compile):\n\u001b[1;32m--> 894\u001b[0m   result \u001b[38;5;241m=\u001b[39m \u001b[38;5;28;43mself\u001b[39;49m\u001b[38;5;241;43m.\u001b[39;49m\u001b[43m_call\u001b[49m\u001b[43m(\u001b[49m\u001b[38;5;241;43m*\u001b[39;49m\u001b[43margs\u001b[49m\u001b[43m,\u001b[49m\u001b[43m \u001b[49m\u001b[38;5;241;43m*\u001b[39;49m\u001b[38;5;241;43m*\u001b[39;49m\u001b[43mkwds\u001b[49m\u001b[43m)\u001b[49m\n\u001b[0;32m    896\u001b[0m new_tracing_count \u001b[38;5;241m=\u001b[39m \u001b[38;5;28mself\u001b[39m\u001b[38;5;241m.\u001b[39mexperimental_get_tracing_count()\n\u001b[0;32m    897\u001b[0m without_tracing \u001b[38;5;241m=\u001b[39m (tracing_count \u001b[38;5;241m==\u001b[39m new_tracing_count)\n",
      "File \u001b[1;32m~\\AppData\\Local\\Packages\\PythonSoftwareFoundation.Python.3.11_qbz5n2kfra8p0\\LocalCache\\local-packages\\Python311\\site-packages\\tensorflow\\python\\eager\\polymorphic_function\\polymorphic_function.py:926\u001b[0m, in \u001b[0;36mFunction._call\u001b[1;34m(self, *args, **kwds)\u001b[0m\n\u001b[0;32m    923\u001b[0m   \u001b[38;5;28mself\u001b[39m\u001b[38;5;241m.\u001b[39m_lock\u001b[38;5;241m.\u001b[39mrelease()\n\u001b[0;32m    924\u001b[0m   \u001b[38;5;66;03m# In this case we have created variables on the first call, so we run the\u001b[39;00m\n\u001b[0;32m    925\u001b[0m   \u001b[38;5;66;03m# defunned version which is guaranteed to never create variables.\u001b[39;00m\n\u001b[1;32m--> 926\u001b[0m   \u001b[38;5;28;01mreturn\u001b[39;00m \u001b[38;5;28;43mself\u001b[39;49m\u001b[38;5;241;43m.\u001b[39;49m\u001b[43m_no_variable_creation_fn\u001b[49m\u001b[43m(\u001b[49m\u001b[38;5;241;43m*\u001b[39;49m\u001b[43margs\u001b[49m\u001b[43m,\u001b[49m\u001b[43m \u001b[49m\u001b[38;5;241;43m*\u001b[39;49m\u001b[38;5;241;43m*\u001b[39;49m\u001b[43mkwds\u001b[49m\u001b[43m)\u001b[49m  \u001b[38;5;66;03m# pylint: disable=not-callable\u001b[39;00m\n\u001b[0;32m    927\u001b[0m \u001b[38;5;28;01melif\u001b[39;00m \u001b[38;5;28mself\u001b[39m\u001b[38;5;241m.\u001b[39m_variable_creation_fn \u001b[38;5;129;01mis\u001b[39;00m \u001b[38;5;129;01mnot\u001b[39;00m \u001b[38;5;28;01mNone\u001b[39;00m:\n\u001b[0;32m    928\u001b[0m   \u001b[38;5;66;03m# Release the lock early so that multiple threads can perform the call\u001b[39;00m\n\u001b[0;32m    929\u001b[0m   \u001b[38;5;66;03m# in parallel.\u001b[39;00m\n\u001b[0;32m    930\u001b[0m   \u001b[38;5;28mself\u001b[39m\u001b[38;5;241m.\u001b[39m_lock\u001b[38;5;241m.\u001b[39mrelease()\n",
      "File \u001b[1;32m~\\AppData\\Local\\Packages\\PythonSoftwareFoundation.Python.3.11_qbz5n2kfra8p0\\LocalCache\\local-packages\\Python311\\site-packages\\tensorflow\\python\\eager\\polymorphic_function\\tracing_compiler.py:143\u001b[0m, in \u001b[0;36mTracingCompiler.__call__\u001b[1;34m(self, *args, **kwargs)\u001b[0m\n\u001b[0;32m    140\u001b[0m \u001b[38;5;28;01mwith\u001b[39;00m \u001b[38;5;28mself\u001b[39m\u001b[38;5;241m.\u001b[39m_lock:\n\u001b[0;32m    141\u001b[0m   (concrete_function,\n\u001b[0;32m    142\u001b[0m    filtered_flat_args) \u001b[38;5;241m=\u001b[39m \u001b[38;5;28mself\u001b[39m\u001b[38;5;241m.\u001b[39m_maybe_define_function(args, kwargs)\n\u001b[1;32m--> 143\u001b[0m \u001b[38;5;28;01mreturn\u001b[39;00m \u001b[43mconcrete_function\u001b[49m\u001b[38;5;241;43m.\u001b[39;49m\u001b[43m_call_flat\u001b[49m\u001b[43m(\u001b[49m\n\u001b[0;32m    144\u001b[0m \u001b[43m    \u001b[49m\u001b[43mfiltered_flat_args\u001b[49m\u001b[43m,\u001b[49m\u001b[43m \u001b[49m\u001b[43mcaptured_inputs\u001b[49m\u001b[38;5;241;43m=\u001b[39;49m\u001b[43mconcrete_function\u001b[49m\u001b[38;5;241;43m.\u001b[39;49m\u001b[43mcaptured_inputs\u001b[49m\u001b[43m)\u001b[49m\n",
      "File \u001b[1;32m~\\AppData\\Local\\Packages\\PythonSoftwareFoundation.Python.3.11_qbz5n2kfra8p0\\LocalCache\\local-packages\\Python311\\site-packages\\tensorflow\\python\\eager\\polymorphic_function\\monomorphic_function.py:1757\u001b[0m, in \u001b[0;36mConcreteFunction._call_flat\u001b[1;34m(self, args, captured_inputs, cancellation_manager)\u001b[0m\n\u001b[0;32m   1753\u001b[0m possible_gradient_type \u001b[38;5;241m=\u001b[39m gradients_util\u001b[38;5;241m.\u001b[39mPossibleTapeGradientTypes(args)\n\u001b[0;32m   1754\u001b[0m \u001b[38;5;28;01mif\u001b[39;00m (possible_gradient_type \u001b[38;5;241m==\u001b[39m gradients_util\u001b[38;5;241m.\u001b[39mPOSSIBLE_GRADIENT_TYPES_NONE\n\u001b[0;32m   1755\u001b[0m     \u001b[38;5;129;01mand\u001b[39;00m executing_eagerly):\n\u001b[0;32m   1756\u001b[0m   \u001b[38;5;66;03m# No tape is watching; skip to running the function.\u001b[39;00m\n\u001b[1;32m-> 1757\u001b[0m   \u001b[38;5;28;01mreturn\u001b[39;00m \u001b[38;5;28mself\u001b[39m\u001b[38;5;241m.\u001b[39m_build_call_outputs(\u001b[38;5;28;43mself\u001b[39;49m\u001b[38;5;241;43m.\u001b[39;49m\u001b[43m_inference_function\u001b[49m\u001b[38;5;241;43m.\u001b[39;49m\u001b[43mcall\u001b[49m\u001b[43m(\u001b[49m\n\u001b[0;32m   1758\u001b[0m \u001b[43m      \u001b[49m\u001b[43mctx\u001b[49m\u001b[43m,\u001b[49m\u001b[43m \u001b[49m\u001b[43margs\u001b[49m\u001b[43m,\u001b[49m\u001b[43m \u001b[49m\u001b[43mcancellation_manager\u001b[49m\u001b[38;5;241;43m=\u001b[39;49m\u001b[43mcancellation_manager\u001b[49m\u001b[43m)\u001b[49m)\n\u001b[0;32m   1759\u001b[0m forward_backward \u001b[38;5;241m=\u001b[39m \u001b[38;5;28mself\u001b[39m\u001b[38;5;241m.\u001b[39m_select_forward_and_backward_functions(\n\u001b[0;32m   1760\u001b[0m     args,\n\u001b[0;32m   1761\u001b[0m     possible_gradient_type,\n\u001b[0;32m   1762\u001b[0m     executing_eagerly)\n\u001b[0;32m   1763\u001b[0m forward_function, args_with_tangents \u001b[38;5;241m=\u001b[39m forward_backward\u001b[38;5;241m.\u001b[39mforward()\n",
      "File \u001b[1;32m~\\AppData\\Local\\Packages\\PythonSoftwareFoundation.Python.3.11_qbz5n2kfra8p0\\LocalCache\\local-packages\\Python311\\site-packages\\tensorflow\\python\\eager\\polymorphic_function\\monomorphic_function.py:381\u001b[0m, in \u001b[0;36m_EagerDefinedFunction.call\u001b[1;34m(self, ctx, args, cancellation_manager)\u001b[0m\n\u001b[0;32m    379\u001b[0m \u001b[38;5;28;01mwith\u001b[39;00m _InterpolateFunctionError(\u001b[38;5;28mself\u001b[39m):\n\u001b[0;32m    380\u001b[0m   \u001b[38;5;28;01mif\u001b[39;00m cancellation_manager \u001b[38;5;129;01mis\u001b[39;00m \u001b[38;5;28;01mNone\u001b[39;00m:\n\u001b[1;32m--> 381\u001b[0m     outputs \u001b[38;5;241m=\u001b[39m \u001b[43mexecute\u001b[49m\u001b[38;5;241;43m.\u001b[39;49m\u001b[43mexecute\u001b[49m\u001b[43m(\u001b[49m\n\u001b[0;32m    382\u001b[0m \u001b[43m        \u001b[49m\u001b[38;5;28;43mstr\u001b[39;49m\u001b[43m(\u001b[49m\u001b[38;5;28;43mself\u001b[39;49m\u001b[38;5;241;43m.\u001b[39;49m\u001b[43msignature\u001b[49m\u001b[38;5;241;43m.\u001b[39;49m\u001b[43mname\u001b[49m\u001b[43m)\u001b[49m\u001b[43m,\u001b[49m\n\u001b[0;32m    383\u001b[0m \u001b[43m        \u001b[49m\u001b[43mnum_outputs\u001b[49m\u001b[38;5;241;43m=\u001b[39;49m\u001b[38;5;28;43mself\u001b[39;49m\u001b[38;5;241;43m.\u001b[39;49m\u001b[43m_num_outputs\u001b[49m\u001b[43m,\u001b[49m\n\u001b[0;32m    384\u001b[0m \u001b[43m        \u001b[49m\u001b[43minputs\u001b[49m\u001b[38;5;241;43m=\u001b[39;49m\u001b[43margs\u001b[49m\u001b[43m,\u001b[49m\n\u001b[0;32m    385\u001b[0m \u001b[43m        \u001b[49m\u001b[43mattrs\u001b[49m\u001b[38;5;241;43m=\u001b[39;49m\u001b[43mattrs\u001b[49m\u001b[43m,\u001b[49m\n\u001b[0;32m    386\u001b[0m \u001b[43m        \u001b[49m\u001b[43mctx\u001b[49m\u001b[38;5;241;43m=\u001b[39;49m\u001b[43mctx\u001b[49m\u001b[43m)\u001b[49m\n\u001b[0;32m    387\u001b[0m   \u001b[38;5;28;01melse\u001b[39;00m:\n\u001b[0;32m    388\u001b[0m     outputs \u001b[38;5;241m=\u001b[39m execute\u001b[38;5;241m.\u001b[39mexecute_with_cancellation(\n\u001b[0;32m    389\u001b[0m         \u001b[38;5;28mstr\u001b[39m(\u001b[38;5;28mself\u001b[39m\u001b[38;5;241m.\u001b[39msignature\u001b[38;5;241m.\u001b[39mname),\n\u001b[0;32m    390\u001b[0m         num_outputs\u001b[38;5;241m=\u001b[39m\u001b[38;5;28mself\u001b[39m\u001b[38;5;241m.\u001b[39m_num_outputs,\n\u001b[1;32m   (...)\u001b[0m\n\u001b[0;32m    393\u001b[0m         ctx\u001b[38;5;241m=\u001b[39mctx,\n\u001b[0;32m    394\u001b[0m         cancellation_manager\u001b[38;5;241m=\u001b[39mcancellation_manager)\n",
      "File \u001b[1;32m~\\AppData\\Local\\Packages\\PythonSoftwareFoundation.Python.3.11_qbz5n2kfra8p0\\LocalCache\\local-packages\\Python311\\site-packages\\tensorflow\\python\\eager\\execute.py:52\u001b[0m, in \u001b[0;36mquick_execute\u001b[1;34m(op_name, num_outputs, inputs, attrs, ctx, name)\u001b[0m\n\u001b[0;32m     50\u001b[0m \u001b[38;5;28;01mtry\u001b[39;00m:\n\u001b[0;32m     51\u001b[0m   ctx\u001b[38;5;241m.\u001b[39mensure_initialized()\n\u001b[1;32m---> 52\u001b[0m   tensors \u001b[38;5;241m=\u001b[39m \u001b[43mpywrap_tfe\u001b[49m\u001b[38;5;241;43m.\u001b[39;49m\u001b[43mTFE_Py_Execute\u001b[49m\u001b[43m(\u001b[49m\u001b[43mctx\u001b[49m\u001b[38;5;241;43m.\u001b[39;49m\u001b[43m_handle\u001b[49m\u001b[43m,\u001b[49m\u001b[43m \u001b[49m\u001b[43mdevice_name\u001b[49m\u001b[43m,\u001b[49m\u001b[43m \u001b[49m\u001b[43mop_name\u001b[49m\u001b[43m,\u001b[49m\n\u001b[0;32m     53\u001b[0m \u001b[43m                                      \u001b[49m\u001b[43minputs\u001b[49m\u001b[43m,\u001b[49m\u001b[43m \u001b[49m\u001b[43mattrs\u001b[49m\u001b[43m,\u001b[49m\u001b[43m \u001b[49m\u001b[43mnum_outputs\u001b[49m\u001b[43m)\u001b[49m\n\u001b[0;32m     54\u001b[0m \u001b[38;5;28;01mexcept\u001b[39;00m core\u001b[38;5;241m.\u001b[39m_NotOkStatusException \u001b[38;5;28;01mas\u001b[39;00m e:\n\u001b[0;32m     55\u001b[0m   \u001b[38;5;28;01mif\u001b[39;00m name \u001b[38;5;129;01mis\u001b[39;00m \u001b[38;5;129;01mnot\u001b[39;00m \u001b[38;5;28;01mNone\u001b[39;00m:\n",
      "\u001b[1;31mKeyboardInterrupt\u001b[0m: "
     ]
    }
   ],
   "source": [
    "vae.fit(all_images, epochs=500, batch_size=batch_size)"
   ]
  },
  {
   "cell_type": "code",
   "execution_count": 18,
   "id": "fc12b7b7",
   "metadata": {},
   "outputs": [],
   "source": [
    "vae.save_weights(\"vae-mnist-5-weights.h5\")"
   ]
  },
  {
   "cell_type": "code",
   "execution_count": 19,
   "id": "34e9c0b0",
   "metadata": {},
   "outputs": [],
   "source": [
    "def predict_img():\n",
    "    random_latent_vectors = np.random.random((1, 28, 28, 1))\n",
    "    _, _, z = vae.encoder.predict(random_latent_vectors)\n",
    "    decoded_img = vae.decoder.predict(z)\n",
    "    fig = plt.figure(figsize=(1, 1))\n",
    "    plt.imshow(decoded_img[0], cmap=\"gray\")\n",
    "    plt.show()"
   ]
  },
  {
   "cell_type": "code",
   "execution_count": 21,
   "id": "733d78fb",
   "metadata": {},
   "outputs": [
    {
     "name": "stdout",
     "output_type": "stream",
     "text": [
      "1/1 [==============================] - 0s 19ms/step\n",
      "1/1 [==============================] - 0s 23ms/step\n"
     ]
    },
    {
     "data": {
      "image/png": "[encoded data removed]",
      "text/plain": [
       "<Figure size 100x100 with 1 Axes>"
      ]
     },
     "metadata": {},
     "output_type": "display_data"
    }
   ],
   "source": [
    "predict_img()"
   ]
  },
  {
   "cell_type": "code",
   "execution_count": 26,
   "id": "0c025688",
   "metadata": {},
   "outputs": [
    {
     "name": "stdout",
     "output_type": "stream",
     "text": [
      "1/1 [==============================] - 0s 20ms/step\n",
      "1/1 [==============================] - 0s 21ms/step\n"
     ]
    },
    {
     "data": {
      "image/png": "[encoded data removed]",
      "text/plain": [
       "<Figure size 100x100 with 1 Axes>"
      ]
     },
     "metadata": {},
     "output_type": "display_data"
    }
   ],
   "source": [
    "predict_img()"
   ]
  },
  {
   "cell_type": "code",
   "execution_count": 74,
   "id": "a2b91f79",
   "metadata": {},
   "outputs": [
    {
     "name": "stdout",
     "output_type": "stream",
     "text": [
      "1/1 [==============================] - 0s 19ms/step\n",
      "1/1 [==============================] - 0s 20ms/step\n"
     ]
    },
    {
     "data": {
      "image/png": "[encoded data removed]",
      "text/plain": [
       "<Figure size 100x100 with 1 Axes>"
      ]
     },
     "metadata": {},
     "output_type": "display_data"
    }
   ],
   "source": [
    "predict_img()"
   ]
  }
 ],
 "metadata": {
  "kernelspec": {
   "display_name": "Python 3 (ipykernel)",
   "language": "python",
   "name": "python3"
  },
  "language_info": {
   "codemirror_mode": {
    "name": "ipython",
    "version": 3
   },
   "file_extension": ".py",
   "mimetype": "text/x-python",
   "name": "python",
   "nbconvert_exporter": "python",
   "pygments_lexer": "ipython3",
   "version": "3.11.4"
  }
 },
 "nbformat": 4,
 "nbformat_minor": 5
}
